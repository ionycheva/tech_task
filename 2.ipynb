{
 "cells": [
  {
   "cell_type": "code",
   "execution_count": 10,
   "id": "initial_id",
   "metadata": {
    "collapsed": true,
    "ExecuteTime": {
     "end_time": "2023-09-15T07:40:21.610290Z",
     "start_time": "2023-09-15T07:40:21.607803Z"
    }
   },
   "outputs": [],
   "source": [
    "import pandas as pd\n",
    "import numpy as np"
   ]
  },
  {
   "cell_type": "code",
   "execution_count": 11,
   "outputs": [],
   "source": [
    "df = pd.read_excel('tmp.xlsx', header=1,)  # Data loading\n",
    "\n",
    "# removing the ruble symbol and non-printing characters\n",
    "df['Loan issued'] = pd.to_numeric(df['Loan issued'].str.replace('₽', '').str.replace('\\u00A0', ''))\n",
    "df['Earned interest'] = pd.to_numeric(df['Earned interest'].str.replace('₽', '').str.replace('\\u00A0', ''))\n",
    "df['Unpaid,  full amount'] = pd.to_numeric(\n",
    "    df['Unpaid,  full amount'].str.replace('₽', '').str.replace('\\u00A0', ''))\n",
    "\n",
    "# casting some columns to percentage format\n",
    "df['Comission, %'] = df['Comission, %'] * 100\n",
    "df['EL'] = df['EL'] * 100\n",
    "df = df.drop(columns=['Unnamed: 6'], axis=1)\n",
    "\n",
    "# column definition\n",
    "df = df[['Comission, %', 'Rating', 'Loan issued', 'Earned interest', 'Unpaid,  full amount', 'EL']]"
   ],
   "metadata": {
    "collapsed": false,
    "ExecuteTime": {
     "end_time": "2023-09-15T07:40:21.715539Z",
     "start_time": "2023-09-15T07:40:21.614209Z"
    }
   },
   "id": "4c18a6980c6caa5"
  },
  {
   "cell_type": "code",
   "execution_count": 12,
   "outputs": [
    {
     "data": {
      "text/plain": "     Comission, %  Rating  Loan issued  Earned interest  Unpaid,  full amount  \\\n0            5.30       7      3170000           211051                862850   \n1            6.50      17       500000            39518                289518   \n2            4.50       9     11600897           537680               9567386   \n3            4.50      13      5250000           233022               2858022   \n4            3.75       8      3000000           216485                     0   \n..            ...     ...          ...              ...                   ...   \n527          6.80      17      3000000            83062               3206436   \n528          5.30      10      6560000           250635               4309425   \n529          5.50      14      2844671           233514               1064981   \n530          5.50      12       500000            13235                414705   \n531          5.00      13      5000000           276999               1805166   \n\n       EL  \n0     1.5  \n1    10.0  \n2     1.5  \n3     1.5  \n4     0.0  \n..    ...  \n527   1.5  \n528   1.5  \n529  40.0  \n530   1.5  \n531   1.5  \n\n[532 rows x 6 columns]",
      "text/html": "<div>\n<style scoped>\n    .dataframe tbody tr th:only-of-type {\n        vertical-align: middle;\n    }\n\n    .dataframe tbody tr th {\n        vertical-align: top;\n    }\n\n    .dataframe thead th {\n        text-align: right;\n    }\n</style>\n<table border=\"1\" class=\"dataframe\">\n  <thead>\n    <tr style=\"text-align: right;\">\n      <th></th>\n      <th>Comission, %</th>\n      <th>Rating</th>\n      <th>Loan issued</th>\n      <th>Earned interest</th>\n      <th>Unpaid,  full amount</th>\n      <th>EL</th>\n    </tr>\n  </thead>\n  <tbody>\n    <tr>\n      <th>0</th>\n      <td>5.30</td>\n      <td>7</td>\n      <td>3170000</td>\n      <td>211051</td>\n      <td>862850</td>\n      <td>1.5</td>\n    </tr>\n    <tr>\n      <th>1</th>\n      <td>6.50</td>\n      <td>17</td>\n      <td>500000</td>\n      <td>39518</td>\n      <td>289518</td>\n      <td>10.0</td>\n    </tr>\n    <tr>\n      <th>2</th>\n      <td>4.50</td>\n      <td>9</td>\n      <td>11600897</td>\n      <td>537680</td>\n      <td>9567386</td>\n      <td>1.5</td>\n    </tr>\n    <tr>\n      <th>3</th>\n      <td>4.50</td>\n      <td>13</td>\n      <td>5250000</td>\n      <td>233022</td>\n      <td>2858022</td>\n      <td>1.5</td>\n    </tr>\n    <tr>\n      <th>4</th>\n      <td>3.75</td>\n      <td>8</td>\n      <td>3000000</td>\n      <td>216485</td>\n      <td>0</td>\n      <td>0.0</td>\n    </tr>\n    <tr>\n      <th>...</th>\n      <td>...</td>\n      <td>...</td>\n      <td>...</td>\n      <td>...</td>\n      <td>...</td>\n      <td>...</td>\n    </tr>\n    <tr>\n      <th>527</th>\n      <td>6.80</td>\n      <td>17</td>\n      <td>3000000</td>\n      <td>83062</td>\n      <td>3206436</td>\n      <td>1.5</td>\n    </tr>\n    <tr>\n      <th>528</th>\n      <td>5.30</td>\n      <td>10</td>\n      <td>6560000</td>\n      <td>250635</td>\n      <td>4309425</td>\n      <td>1.5</td>\n    </tr>\n    <tr>\n      <th>529</th>\n      <td>5.50</td>\n      <td>14</td>\n      <td>2844671</td>\n      <td>233514</td>\n      <td>1064981</td>\n      <td>40.0</td>\n    </tr>\n    <tr>\n      <th>530</th>\n      <td>5.50</td>\n      <td>12</td>\n      <td>500000</td>\n      <td>13235</td>\n      <td>414705</td>\n      <td>1.5</td>\n    </tr>\n    <tr>\n      <th>531</th>\n      <td>5.00</td>\n      <td>13</td>\n      <td>5000000</td>\n      <td>276999</td>\n      <td>1805166</td>\n      <td>1.5</td>\n    </tr>\n  </tbody>\n</table>\n<p>532 rows × 6 columns</p>\n</div>"
     },
     "execution_count": 12,
     "metadata": {},
     "output_type": "execute_result"
    }
   ],
   "source": [
    "# resulting table\n",
    "df"
   ],
   "metadata": {
    "collapsed": false,
    "ExecuteTime": {
     "end_time": "2023-09-15T07:40:21.723343Z",
     "start_time": "2023-09-15T07:40:21.716679Z"
    }
   },
   "id": "6e095328595fb453"
  },
  {
   "cell_type": "code",
   "execution_count": 13,
   "outputs": [
    {
     "data": {
      "text/plain": "             Loan issued                                                      \\\n                    mean                                                       \nRating                1    2    3    4    5    6    7          8          9    \nComission, %                                                                   \n2.00                 0.0  0.0  0.0  0.0  0.0  0.0  0.0        0.0  2750000.0   \n2.13                 0.0  0.0  0.0  0.0  0.0  0.0  0.0        0.0        0.0   \n2.15                 0.0  0.0  0.0  0.0  0.0  0.0  0.0  8700000.0        0.0   \n2.24                 0.0  0.0  0.0  0.0  0.0  0.0  0.0        0.0  8640000.0   \n2.25                 0.0  0.0  0.0  0.0  0.0  0.0  0.0        0.0        0.0   \n...                  ...  ...  ...  ...  ...  ...  ...        ...        ...   \n6.80                 0.0  0.0  0.0  0.0  0.0  0.0  0.0  1175000.0        0.0   \n6.90                 0.0  0.0  0.0  0.0  0.0  0.0  0.0        0.0        0.0   \n7.00                 0.0  0.0  0.0  0.0  0.0  0.0  0.0        0.0        0.0   \n7.80                 0.0  0.0  0.0  0.0  0.0  0.0  0.0        0.0        0.0   \n8.30                 0.0  0.0  0.0  0.0  0.0  0.0  0.0        0.0        0.0   \n\n                         ...                                              \\\n                         ...        sum                                    \nRating               10  ...         9          10         11         12   \nComission, %             ...                                               \n2.00                0.0  ...  5500000.0        0.0        0.0        0.0   \n2.13                0.0  ...        0.0        0.0        0.0  3000000.0   \n2.15                0.0  ...        0.0        0.0        0.0        0.0   \n2.24                0.0  ...  8640000.0        0.0        0.0        0.0   \n2.25                0.0  ...        0.0        0.0        0.0   800000.0   \n...                 ...  ...        ...        ...        ...        ...   \n6.80                0.0  ...        0.0        0.0  2000000.0  3000000.0   \n6.90                0.0  ...        0.0        0.0  2000000.0        0.0   \n7.00                0.0  ...        0.0        0.0        0.0        0.0   \n7.80          2000000.0  ...        0.0  2000000.0        0.0  4000000.0   \n8.30                0.0  ...        0.0        0.0        0.0        0.0   \n\n                                                                          \n                                                                          \nRating               13         14         15   16         17         18  \nComission, %                                                              \n2.00          1836735.0        0.0        0.0  0.0        0.0        0.0  \n2.13                0.0        0.0        0.0  0.0        0.0        0.0  \n2.15                0.0        0.0        0.0  0.0        0.0        0.0  \n2.24                0.0        0.0        0.0  0.0        0.0        0.0  \n2.25                0.0        0.0        0.0  0.0        0.0        0.0  \n...                 ...        ...        ...  ...        ...        ...  \n6.80                0.0        0.0        0.0  0.0  3000000.0        0.0  \n6.90                0.0        0.0        0.0  0.0        0.0        0.0  \n7.00                0.0  2790000.0        0.0  0.0        0.0        0.0  \n7.80                0.0        0.0        0.0  0.0        0.0  1700000.0  \n8.30                0.0  7000000.0  1000000.0  0.0  1030000.0        0.0  \n\n[127 rows x 36 columns]",
      "text/html": "<div>\n<style scoped>\n    .dataframe tbody tr th:only-of-type {\n        vertical-align: middle;\n    }\n\n    .dataframe tbody tr th {\n        vertical-align: top;\n    }\n\n    .dataframe thead tr th {\n        text-align: left;\n    }\n\n    .dataframe thead tr:last-of-type th {\n        text-align: right;\n    }\n</style>\n<table border=\"1\" class=\"dataframe\">\n  <thead>\n    <tr>\n      <th></th>\n      <th colspan=\"21\" halign=\"left\">Loan issued</th>\n    </tr>\n    <tr>\n      <th></th>\n      <th colspan=\"10\" halign=\"left\">mean</th>\n      <th>...</th>\n      <th colspan=\"10\" halign=\"left\">sum</th>\n    </tr>\n    <tr>\n      <th>Rating</th>\n      <th>1</th>\n      <th>2</th>\n      <th>3</th>\n      <th>4</th>\n      <th>5</th>\n      <th>6</th>\n      <th>7</th>\n      <th>8</th>\n      <th>9</th>\n      <th>10</th>\n      <th>...</th>\n      <th>9</th>\n      <th>10</th>\n      <th>11</th>\n      <th>12</th>\n      <th>13</th>\n      <th>14</th>\n      <th>15</th>\n      <th>16</th>\n      <th>17</th>\n      <th>18</th>\n    </tr>\n    <tr>\n      <th>Comission, %</th>\n      <th></th>\n      <th></th>\n      <th></th>\n      <th></th>\n      <th></th>\n      <th></th>\n      <th></th>\n      <th></th>\n      <th></th>\n      <th></th>\n      <th></th>\n      <th></th>\n      <th></th>\n      <th></th>\n      <th></th>\n      <th></th>\n      <th></th>\n      <th></th>\n      <th></th>\n      <th></th>\n      <th></th>\n    </tr>\n  </thead>\n  <tbody>\n    <tr>\n      <th>2.00</th>\n      <td>0.0</td>\n      <td>0.0</td>\n      <td>0.0</td>\n      <td>0.0</td>\n      <td>0.0</td>\n      <td>0.0</td>\n      <td>0.0</td>\n      <td>0.0</td>\n      <td>2750000.0</td>\n      <td>0.0</td>\n      <td>...</td>\n      <td>5500000.0</td>\n      <td>0.0</td>\n      <td>0.0</td>\n      <td>0.0</td>\n      <td>1836735.0</td>\n      <td>0.0</td>\n      <td>0.0</td>\n      <td>0.0</td>\n      <td>0.0</td>\n      <td>0.0</td>\n    </tr>\n    <tr>\n      <th>2.13</th>\n      <td>0.0</td>\n      <td>0.0</td>\n      <td>0.0</td>\n      <td>0.0</td>\n      <td>0.0</td>\n      <td>0.0</td>\n      <td>0.0</td>\n      <td>0.0</td>\n      <td>0.0</td>\n      <td>0.0</td>\n      <td>...</td>\n      <td>0.0</td>\n      <td>0.0</td>\n      <td>0.0</td>\n      <td>3000000.0</td>\n      <td>0.0</td>\n      <td>0.0</td>\n      <td>0.0</td>\n      <td>0.0</td>\n      <td>0.0</td>\n      <td>0.0</td>\n    </tr>\n    <tr>\n      <th>2.15</th>\n      <td>0.0</td>\n      <td>0.0</td>\n      <td>0.0</td>\n      <td>0.0</td>\n      <td>0.0</td>\n      <td>0.0</td>\n      <td>0.0</td>\n      <td>8700000.0</td>\n      <td>0.0</td>\n      <td>0.0</td>\n      <td>...</td>\n      <td>0.0</td>\n      <td>0.0</td>\n      <td>0.0</td>\n      <td>0.0</td>\n      <td>0.0</td>\n      <td>0.0</td>\n      <td>0.0</td>\n      <td>0.0</td>\n      <td>0.0</td>\n      <td>0.0</td>\n    </tr>\n    <tr>\n      <th>2.24</th>\n      <td>0.0</td>\n      <td>0.0</td>\n      <td>0.0</td>\n      <td>0.0</td>\n      <td>0.0</td>\n      <td>0.0</td>\n      <td>0.0</td>\n      <td>0.0</td>\n      <td>8640000.0</td>\n      <td>0.0</td>\n      <td>...</td>\n      <td>8640000.0</td>\n      <td>0.0</td>\n      <td>0.0</td>\n      <td>0.0</td>\n      <td>0.0</td>\n      <td>0.0</td>\n      <td>0.0</td>\n      <td>0.0</td>\n      <td>0.0</td>\n      <td>0.0</td>\n    </tr>\n    <tr>\n      <th>2.25</th>\n      <td>0.0</td>\n      <td>0.0</td>\n      <td>0.0</td>\n      <td>0.0</td>\n      <td>0.0</td>\n      <td>0.0</td>\n      <td>0.0</td>\n      <td>0.0</td>\n      <td>0.0</td>\n      <td>0.0</td>\n      <td>...</td>\n      <td>0.0</td>\n      <td>0.0</td>\n      <td>0.0</td>\n      <td>800000.0</td>\n      <td>0.0</td>\n      <td>0.0</td>\n      <td>0.0</td>\n      <td>0.0</td>\n      <td>0.0</td>\n      <td>0.0</td>\n    </tr>\n    <tr>\n      <th>...</th>\n      <td>...</td>\n      <td>...</td>\n      <td>...</td>\n      <td>...</td>\n      <td>...</td>\n      <td>...</td>\n      <td>...</td>\n      <td>...</td>\n      <td>...</td>\n      <td>...</td>\n      <td>...</td>\n      <td>...</td>\n      <td>...</td>\n      <td>...</td>\n      <td>...</td>\n      <td>...</td>\n      <td>...</td>\n      <td>...</td>\n      <td>...</td>\n      <td>...</td>\n      <td>...</td>\n    </tr>\n    <tr>\n      <th>6.80</th>\n      <td>0.0</td>\n      <td>0.0</td>\n      <td>0.0</td>\n      <td>0.0</td>\n      <td>0.0</td>\n      <td>0.0</td>\n      <td>0.0</td>\n      <td>1175000.0</td>\n      <td>0.0</td>\n      <td>0.0</td>\n      <td>...</td>\n      <td>0.0</td>\n      <td>0.0</td>\n      <td>2000000.0</td>\n      <td>3000000.0</td>\n      <td>0.0</td>\n      <td>0.0</td>\n      <td>0.0</td>\n      <td>0.0</td>\n      <td>3000000.0</td>\n      <td>0.0</td>\n    </tr>\n    <tr>\n      <th>6.90</th>\n      <td>0.0</td>\n      <td>0.0</td>\n      <td>0.0</td>\n      <td>0.0</td>\n      <td>0.0</td>\n      <td>0.0</td>\n      <td>0.0</td>\n      <td>0.0</td>\n      <td>0.0</td>\n      <td>0.0</td>\n      <td>...</td>\n      <td>0.0</td>\n      <td>0.0</td>\n      <td>2000000.0</td>\n      <td>0.0</td>\n      <td>0.0</td>\n      <td>0.0</td>\n      <td>0.0</td>\n      <td>0.0</td>\n      <td>0.0</td>\n      <td>0.0</td>\n    </tr>\n    <tr>\n      <th>7.00</th>\n      <td>0.0</td>\n      <td>0.0</td>\n      <td>0.0</td>\n      <td>0.0</td>\n      <td>0.0</td>\n      <td>0.0</td>\n      <td>0.0</td>\n      <td>0.0</td>\n      <td>0.0</td>\n      <td>0.0</td>\n      <td>...</td>\n      <td>0.0</td>\n      <td>0.0</td>\n      <td>0.0</td>\n      <td>0.0</td>\n      <td>0.0</td>\n      <td>2790000.0</td>\n      <td>0.0</td>\n      <td>0.0</td>\n      <td>0.0</td>\n      <td>0.0</td>\n    </tr>\n    <tr>\n      <th>7.80</th>\n      <td>0.0</td>\n      <td>0.0</td>\n      <td>0.0</td>\n      <td>0.0</td>\n      <td>0.0</td>\n      <td>0.0</td>\n      <td>0.0</td>\n      <td>0.0</td>\n      <td>0.0</td>\n      <td>2000000.0</td>\n      <td>...</td>\n      <td>0.0</td>\n      <td>2000000.0</td>\n      <td>0.0</td>\n      <td>4000000.0</td>\n      <td>0.0</td>\n      <td>0.0</td>\n      <td>0.0</td>\n      <td>0.0</td>\n      <td>0.0</td>\n      <td>1700000.0</td>\n    </tr>\n    <tr>\n      <th>8.30</th>\n      <td>0.0</td>\n      <td>0.0</td>\n      <td>0.0</td>\n      <td>0.0</td>\n      <td>0.0</td>\n      <td>0.0</td>\n      <td>0.0</td>\n      <td>0.0</td>\n      <td>0.0</td>\n      <td>0.0</td>\n      <td>...</td>\n      <td>0.0</td>\n      <td>0.0</td>\n      <td>0.0</td>\n      <td>0.0</td>\n      <td>0.0</td>\n      <td>7000000.0</td>\n      <td>1000000.0</td>\n      <td>0.0</td>\n      <td>1030000.0</td>\n      <td>0.0</td>\n    </tr>\n  </tbody>\n</table>\n<p>127 rows × 36 columns</p>\n</div>"
     },
     "execution_count": 13,
     "metadata": {},
     "output_type": "execute_result"
    }
   ],
   "source": [
    "# Making pivot table\n",
    "df_pivot_table = df.pivot_table(index=['Comission, %'], columns=['Rating'],\n",
    "                                 aggfunc={'sum', 'mean'}, values=['Loan issued']).fillna(0)\n",
    "df_pivot_table.to_excel('pivot_table.xlsx')  # saves results to xlsx-file\n",
    "\n",
    "df_pivot_table"
   ],
   "metadata": {
    "collapsed": false,
    "ExecuteTime": {
     "end_time": "2023-09-15T07:40:21.820932Z",
     "start_time": "2023-09-15T07:40:21.722106Z"
    }
   },
   "id": "8d313f85b0786023"
  },
  {
   "cell_type": "code",
   "execution_count": 14,
   "outputs": [
    {
     "data": {
      "text/plain": "                    Earned interest                             Loan issued  \\\n                                max        mean     min     sum         max   \nRating Comission, %                                                           \n1      5.50                   48343   48343.000   48343   48343     1500000   \n2      5.50                  195370  195370.000  195370  195370     4300000   \n3      3.17                  407474  407474.000  407474  407474     7800000   \n       3.30                  123516  123516.000  123516  123516     7000000   \n       3.80                  111303  111303.000  111303  111303     5000000   \n...                             ...         ...     ...     ...         ...   \n18     6.00                   52699   52699.000   52699   52699     1500000   \n       6.17                   57597   57597.000   57597   57597     1500000   \n       6.20                    9811    9811.000    9811    9811      590000   \n       6.50                  228313   65963.375       0  527707     3000000   \n       7.80                   67431   67431.000   67431   67431     1700000   \n\n                                                   \n                          mean      min       sum  \nRating Comission, %                                \n1      5.50          1500000.0  1500000   1500000  \n2      5.50          4300000.0  4300000   4300000  \n3      3.17          7800000.0  7800000   7800000  \n       3.30          7000000.0  7000000   7000000  \n       3.80          5000000.0  5000000   5000000  \n...                        ...      ...       ...  \n18     6.00          1500000.0  1500000   1500000  \n       6.17          1500000.0  1500000   1500000  \n       6.20           590000.0   590000    590000  \n       6.50          1283750.0   500000  10270000  \n       7.80          1700000.0  1700000   1700000  \n\n[260 rows x 8 columns]",
      "text/html": "<div>\n<style scoped>\n    .dataframe tbody tr th:only-of-type {\n        vertical-align: middle;\n    }\n\n    .dataframe tbody tr th {\n        vertical-align: top;\n    }\n\n    .dataframe thead tr th {\n        text-align: left;\n    }\n\n    .dataframe thead tr:last-of-type th {\n        text-align: right;\n    }\n</style>\n<table border=\"1\" class=\"dataframe\">\n  <thead>\n    <tr>\n      <th></th>\n      <th></th>\n      <th colspan=\"4\" halign=\"left\">Earned interest</th>\n      <th colspan=\"4\" halign=\"left\">Loan issued</th>\n    </tr>\n    <tr>\n      <th></th>\n      <th></th>\n      <th>max</th>\n      <th>mean</th>\n      <th>min</th>\n      <th>sum</th>\n      <th>max</th>\n      <th>mean</th>\n      <th>min</th>\n      <th>sum</th>\n    </tr>\n    <tr>\n      <th>Rating</th>\n      <th>Comission, %</th>\n      <th></th>\n      <th></th>\n      <th></th>\n      <th></th>\n      <th></th>\n      <th></th>\n      <th></th>\n      <th></th>\n    </tr>\n  </thead>\n  <tbody>\n    <tr>\n      <th>1</th>\n      <th>5.50</th>\n      <td>48343</td>\n      <td>48343.000</td>\n      <td>48343</td>\n      <td>48343</td>\n      <td>1500000</td>\n      <td>1500000.0</td>\n      <td>1500000</td>\n      <td>1500000</td>\n    </tr>\n    <tr>\n      <th>2</th>\n      <th>5.50</th>\n      <td>195370</td>\n      <td>195370.000</td>\n      <td>195370</td>\n      <td>195370</td>\n      <td>4300000</td>\n      <td>4300000.0</td>\n      <td>4300000</td>\n      <td>4300000</td>\n    </tr>\n    <tr>\n      <th rowspan=\"3\" valign=\"top\">3</th>\n      <th>3.17</th>\n      <td>407474</td>\n      <td>407474.000</td>\n      <td>407474</td>\n      <td>407474</td>\n      <td>7800000</td>\n      <td>7800000.0</td>\n      <td>7800000</td>\n      <td>7800000</td>\n    </tr>\n    <tr>\n      <th>3.30</th>\n      <td>123516</td>\n      <td>123516.000</td>\n      <td>123516</td>\n      <td>123516</td>\n      <td>7000000</td>\n      <td>7000000.0</td>\n      <td>7000000</td>\n      <td>7000000</td>\n    </tr>\n    <tr>\n      <th>3.80</th>\n      <td>111303</td>\n      <td>111303.000</td>\n      <td>111303</td>\n      <td>111303</td>\n      <td>5000000</td>\n      <td>5000000.0</td>\n      <td>5000000</td>\n      <td>5000000</td>\n    </tr>\n    <tr>\n      <th>...</th>\n      <th>...</th>\n      <td>...</td>\n      <td>...</td>\n      <td>...</td>\n      <td>...</td>\n      <td>...</td>\n      <td>...</td>\n      <td>...</td>\n      <td>...</td>\n    </tr>\n    <tr>\n      <th rowspan=\"5\" valign=\"top\">18</th>\n      <th>6.00</th>\n      <td>52699</td>\n      <td>52699.000</td>\n      <td>52699</td>\n      <td>52699</td>\n      <td>1500000</td>\n      <td>1500000.0</td>\n      <td>1500000</td>\n      <td>1500000</td>\n    </tr>\n    <tr>\n      <th>6.17</th>\n      <td>57597</td>\n      <td>57597.000</td>\n      <td>57597</td>\n      <td>57597</td>\n      <td>1500000</td>\n      <td>1500000.0</td>\n      <td>1500000</td>\n      <td>1500000</td>\n    </tr>\n    <tr>\n      <th>6.20</th>\n      <td>9811</td>\n      <td>9811.000</td>\n      <td>9811</td>\n      <td>9811</td>\n      <td>590000</td>\n      <td>590000.0</td>\n      <td>590000</td>\n      <td>590000</td>\n    </tr>\n    <tr>\n      <th>6.50</th>\n      <td>228313</td>\n      <td>65963.375</td>\n      <td>0</td>\n      <td>527707</td>\n      <td>3000000</td>\n      <td>1283750.0</td>\n      <td>500000</td>\n      <td>10270000</td>\n    </tr>\n    <tr>\n      <th>7.80</th>\n      <td>67431</td>\n      <td>67431.000</td>\n      <td>67431</td>\n      <td>67431</td>\n      <td>1700000</td>\n      <td>1700000.0</td>\n      <td>1700000</td>\n      <td>1700000</td>\n    </tr>\n  </tbody>\n</table>\n<p>260 rows × 8 columns</p>\n</div>"
     },
     "execution_count": 14,
     "metadata": {},
     "output_type": "execute_result"
    }
   ],
   "source": [
    "# An alternative pivot table that is more informative for me.\n",
    "df_pivot_table1 = df.pivot_table(index=['Rating', 'Comission, %'],\n",
    "                                 aggfunc={'sum', 'mean','max','min'}, values=['Loan issued', 'Earned interest']).fillna(0)\n",
    "df_pivot_table1.to_excel('alt_pivot_table.xlsx')  # saves results to xlsx-file\n",
    "\n",
    "df_pivot_table1"
   ],
   "metadata": {
    "collapsed": false,
    "ExecuteTime": {
     "end_time": "2023-09-15T07:40:21.935012Z",
     "start_time": "2023-09-15T07:40:21.816312Z"
    }
   },
   "id": "220cfd3ea30df41b"
  },
  {
   "cell_type": "code",
   "execution_count": 14,
   "outputs": [],
   "source": [],
   "metadata": {
    "collapsed": false,
    "ExecuteTime": {
     "end_time": "2023-09-15T07:40:21.935173Z",
     "start_time": "2023-09-15T07:40:21.865654Z"
    }
   },
   "id": "359ab3f3b92b1db1"
  },
  {
   "cell_type": "code",
   "execution_count": 14,
   "outputs": [],
   "source": [],
   "metadata": {
    "collapsed": false,
    "ExecuteTime": {
     "end_time": "2023-09-15T07:40:21.935220Z",
     "start_time": "2023-09-15T07:40:21.867571Z"
    }
   },
   "id": "7a6dd54bf6f1937b"
  }
 ],
 "metadata": {
  "kernelspec": {
   "display_name": "Python 3",
   "language": "python",
   "name": "python3"
  },
  "language_info": {
   "codemirror_mode": {
    "name": "ipython",
    "version": 2
   },
   "file_extension": ".py",
   "mimetype": "text/x-python",
   "name": "python",
   "nbconvert_exporter": "python",
   "pygments_lexer": "ipython2",
   "version": "2.7.6"
  }
 },
 "nbformat": 4,
 "nbformat_minor": 5
}
