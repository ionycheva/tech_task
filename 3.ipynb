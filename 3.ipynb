{
 "cells": [
  {
   "cell_type": "code",
   "execution_count": 125,
   "id": "initial_id",
   "metadata": {
    "collapsed": true,
    "ExecuteTime": {
     "end_time": "2023-09-14T21:45:35.152115Z",
     "start_time": "2023-09-14T21:45:35.091559Z"
    }
   },
   "outputs": [],
   "source": [
    "import pandas as pd\n",
    "import numpy as np\n",
    "from sklearn.preprocessing import MinMaxScaler\n",
    "from sklearn.model_selection import train_test_split\n",
    "from tensorflow import keras\n",
    "from keras import layers\n",
    "import tensorflow as tf"
   ]
  },
  {
   "cell_type": "code",
   "execution_count": 126,
   "outputs": [],
   "source": [
    "# loading and preprocessing data\n",
    "df = pd.read_excel('tmp.xlsx', header=1,)\n",
    "\n",
    "# removing the ruble symbol and non-printing characters\n",
    "df['Loan issued'] = pd.to_numeric(df['Loan issued'].str.replace('₽', '').str.replace('\\u00A0', ''))\n",
    "df['Earned interest'] = pd.to_numeric(df['Earned interest'].str.replace('₽', '').str.replace('\\u00A0', ''))\n",
    "df['Unpaid,  full amount'] = pd.to_numeric(df['Unpaid,  full amount'].str.replace('₽', '').str.replace('\\u00A0', ''))\n",
    "\n",
    "# casting some columns to percentage format\n",
    "df['Comission, %'] = df['Comission, %'] * 100\n",
    "df['EL'] = df['EL'] * 100\n",
    "df = df.drop(columns=['Unnamed: 6'], axis=1)\n",
    "\n",
    "# column definition\n",
    "df = df[['Comission, %', 'Rating', 'Loan issued', 'Earned interest', 'Unpaid,  full amount', 'EL']]"
   ],
   "metadata": {
    "collapsed": false,
    "ExecuteTime": {
     "end_time": "2023-09-14T21:45:35.234734Z",
     "start_time": "2023-09-14T21:45:35.097405Z"
    }
   },
   "id": "33b6ef20759fc5a3"
  },
  {
   "cell_type": "code",
   "execution_count": 127,
   "outputs": [],
   "source": [
    "# calculation of required values\n",
    "df['loss'] = df['Unpaid,  full amount'] * df['EL']\n",
    "df['InvestorProfit'] = df['Earned interest'] - df['loss']\n",
    "\n",
    "df['Commission'] = df['Loan issued'] * df['Comission, %'] / 100  # calculation of the absolute value of the commission\n",
    "\n",
    "df['Profit'] = df['InvestorProfit'] + df['Commission']\n",
    "df['Profit%'] = df['Profit'] / df['Loan issued']\n"
   ],
   "metadata": {
    "collapsed": false,
    "ExecuteTime": {
     "end_time": "2023-09-14T21:45:35.234956Z",
     "start_time": "2023-09-14T21:45:35.205658Z"
    }
   },
   "id": "7283be9a472dc853"
  },
  {
   "cell_type": "code",
   "execution_count": 128,
   "outputs": [
    {
     "name": "stderr",
     "output_type": "stream",
     "text": [
      "/var/folders/bg/wk91sfp51yjcs62nkzhg61k00000gn/T/ipykernel_38157/35014661.py:3: SettingWithCopyWarning: \n",
      "A value is trying to be set on a copy of a slice from a DataFrame\n",
      "\n",
      "See the caveats in the documentation: https://pandas.pydata.org/pandas-docs/stable/user_guide/indexing.html#returning-a-view-versus-a-copy\n",
      "  df['label'].iloc[label1] = 1\n"
     ]
    }
   ],
   "source": [
    "# defining labels for classification\n",
    "\n",
    "label1 = np.where(df['Profit%'] > 0)\n",
    "df['label'] = 0\n",
    "df['label'].iloc[label1] = 1"
   ],
   "metadata": {
    "collapsed": false,
    "ExecuteTime": {
     "end_time": "2023-09-14T21:45:35.242784Z",
     "start_time": "2023-09-14T21:45:35.209178Z"
    }
   },
   "id": "97efbc35df334cbe"
  },
  {
   "cell_type": "code",
   "execution_count": 129,
   "outputs": [],
   "source": [
    "# Dataset making\n",
    "X, Y_reg, Y_class = [], [], []\n",
    "\n",
    "for i in df.index:\n",
    "    X.append(df[['Comission, %', 'Rating', 'Loan issued', 'Earned interest', 'Unpaid,  full amount', 'EL']].iloc[i].values)\n",
    "    Y_reg.append(df['Profit%'][i])\n",
    "    Y_class.append(df['label'][i])\n",
    "    "
   ],
   "metadata": {
    "collapsed": false,
    "ExecuteTime": {
     "end_time": "2023-09-14T21:45:35.292420Z",
     "start_time": "2023-09-14T21:45:35.290950Z"
    }
   },
   "id": "d375ca27a1f0894f"
  },
  {
   "cell_type": "code",
   "execution_count": 130,
   "outputs": [],
   "source": [
    "# Data scaling\n",
    "scaler = MinMaxScaler()\n",
    "X_scaled = scaler.fit_transform(X)"
   ],
   "metadata": {
    "collapsed": false,
    "ExecuteTime": {
     "end_time": "2023-09-14T21:45:35.297613Z",
     "start_time": "2023-09-14T21:45:35.293861Z"
    }
   },
   "id": "d14c6e2a3c4f034e"
  },
  {
   "cell_type": "markdown",
   "source": [],
   "metadata": {
    "collapsed": false
   },
   "id": "76ee5c2b05f73161"
  },
  {
   "cell_type": "markdown",
   "source": [
    "# Regression. Forecasting expected profit value."
   ],
   "metadata": {
    "collapsed": false
   },
   "id": "a379fc3846b3ec2e"
  },
  {
   "cell_type": "code",
   "execution_count": 131,
   "outputs": [],
   "source": [
    "# Slicing original dataset to train and test samples\n",
    "X_train, X_test, y_train, y_test = train_test_split(X_scaled, Y_reg, test_size=0.2, random_state=42)"
   ],
   "metadata": {
    "collapsed": false,
    "ExecuteTime": {
     "end_time": "2023-09-14T21:45:35.301986Z",
     "start_time": "2023-09-14T21:45:35.298083Z"
    }
   },
   "id": "db668f63cff72d1d"
  },
  {
   "cell_type": "markdown",
   "source": [
    "### Neural network (CNN for regression)"
   ],
   "metadata": {
    "collapsed": false
   },
   "id": "ef81995e5d68445b"
  },
  {
   "cell_type": "code",
   "execution_count": 132,
   "outputs": [
    {
     "name": "stdout",
     "output_type": "stream",
     "text": [
      "Model: \"regression-model\"\n",
      "_________________________________________________________________\n",
      " Layer (type)                Output Shape              Param #   \n",
      "=================================================================\n",
      " input_24 (InputLayer)       [(None, 6, 1)]            0         \n",
      "                                                                 \n",
      " batch_normalization_23 (Ba  (None, 6, 1)              4         \n",
      " tchNormalization)                                               \n",
      "                                                                 \n",
      " conv1d_19 (Conv1D)          (None, 5, 20)             60        \n",
      "                                                                 \n",
      " conv1d_20 (Conv1D)          (None, 4, 15)             615       \n",
      "                                                                 \n",
      " conv1d_21 (Conv1D)          (None, 4, 10)             160       \n",
      "                                                                 \n",
      " dense_90 (Dense)            (None, 4, 250)            2750      \n",
      "                                                                 \n",
      " dense_91 (Dense)            (None, 4, 200)            50200     \n",
      "                                                                 \n",
      " flatten_23 (Flatten)        (None, 800)               0         \n",
      "                                                                 \n",
      " dropout_18 (Dropout)        (None, 800)               0         \n",
      "                                                                 \n",
      " dense_92 (Dense)            (None, 1)                 801       \n",
      "                                                                 \n",
      "=================================================================\n",
      "Total params: 54590 (213.24 KB)\n",
      "Trainable params: 54588 (213.23 KB)\n",
      "Non-trainable params: 2 (8.00 Byte)\n",
      "_________________________________________________________________\n"
     ]
    }
   ],
   "source": [
    "# Defining model\n",
    "inputs = keras.Input(shape=(6,1))\n",
    "x = layers.BatchNormalization()(inputs)\n",
    "x = layers.Conv1D(filters=20, kernel_size=(2), activation='relu')(x)\n",
    "x = layers.Conv1D(filters=15, kernel_size=(2), activation='relu')(x)\n",
    "x = layers.Conv1D(filters=10, kernel_size=(1), activation='relu')(x)\n",
    "x = layers.Dense(250, activation='relu')(x)\n",
    "x = layers.Dense(200, activation='relu')(x)\n",
    "x = layers.Flatten()(x)\n",
    "x = layers.Dropout(0.2)(x)\n",
    "outputs = layers.Dense(1, activation='linear')(x)\n",
    "\n",
    "model = keras.Model(inputs=inputs, outputs=outputs, name=\"regression-model\")\n",
    "model.summary()"
   ],
   "metadata": {
    "collapsed": false,
    "ExecuteTime": {
     "end_time": "2023-09-14T21:45:35.356947Z",
     "start_time": "2023-09-14T21:45:35.306368Z"
    }
   },
   "id": "41aba27227e5dece"
  },
  {
   "cell_type": "code",
   "execution_count": 133,
   "outputs": [],
   "source": [
    "model.compile(loss=tf.keras.losses.LogCosh(),\n",
    "              optimizer=tf.keras.optimizers.legacy.Adam(0.001),\n",
    "              metrics=['mse', 'mae',])"
   ],
   "metadata": {
    "collapsed": false,
    "ExecuteTime": {
     "end_time": "2023-09-14T21:45:35.368407Z",
     "start_time": "2023-09-14T21:45:35.360110Z"
    }
   },
   "id": "684501abac86bfd"
  },
  {
   "cell_type": "code",
   "execution_count": 134,
   "outputs": [
    {
     "name": "stdout",
     "output_type": "stream",
     "text": [
      "Epoch 1/28\n",
      "38/38 [==============================] - 0s 3ms/step - loss: 2.7909 - mse: 111.0922 - mae: 3.1925 - val_loss: 2.7960 - val_mse: 114.8325 - val_mae: 3.1638\n",
      "Epoch 2/28\n",
      "38/38 [==============================] - 0s 2ms/step - loss: 2.7356 - mse: 110.0243 - mae: 3.1078 - val_loss: 2.7990 - val_mse: 115.0382 - val_mae: 3.1618\n",
      "Epoch 3/28\n",
      "38/38 [==============================] - 0s 2ms/step - loss: 2.6963 - mse: 109.4187 - mae: 3.0132 - val_loss: 2.7280 - val_mse: 113.3426 - val_mae: 3.0459\n",
      "Epoch 4/28\n",
      "38/38 [==============================] - 0s 2ms/step - loss: 2.6586 - mse: 107.5881 - mae: 2.9533 - val_loss: 2.7002 - val_mse: 110.3477 - val_mae: 3.0724\n",
      "Epoch 5/28\n",
      "38/38 [==============================] - 0s 2ms/step - loss: 2.5829 - mse: 101.7825 - mae: 2.9117 - val_loss: 2.6399 - val_mse: 102.8648 - val_mae: 3.0883\n",
      "Epoch 6/28\n",
      "38/38 [==============================] - 0s 2ms/step - loss: 2.4379 - mse: 90.4710 - mae: 2.7950 - val_loss: 2.2525 - val_mse: 80.6259 - val_mae: 2.6279\n",
      "Epoch 7/28\n",
      "38/38 [==============================] - 0s 2ms/step - loss: 2.0099 - mse: 60.5650 - mae: 2.3714 - val_loss: 1.7993 - val_mse: 47.6108 - val_mae: 2.2909\n",
      "Epoch 8/28\n",
      "38/38 [==============================] - 0s 2ms/step - loss: 1.7056 - mse: 33.3095 - mae: 2.0750 - val_loss: 1.3556 - val_mse: 23.4335 - val_mae: 1.6428\n",
      "Epoch 9/28\n",
      "38/38 [==============================] - 0s 2ms/step - loss: 1.3929 - mse: 21.0618 - mae: 1.7625 - val_loss: 1.3323 - val_mse: 26.2855 - val_mae: 1.6040\n",
      "Epoch 10/28\n",
      "38/38 [==============================] - 0s 2ms/step - loss: 1.3796 - mse: 21.6457 - mae: 1.7341 - val_loss: 1.1968 - val_mse: 17.5298 - val_mae: 1.4851\n",
      "Epoch 11/28\n",
      "38/38 [==============================] - 0s 2ms/step - loss: 1.3098 - mse: 19.4168 - mae: 1.6546 - val_loss: 1.4500 - val_mse: 33.7014 - val_mae: 1.7022\n",
      "Epoch 12/28\n",
      "38/38 [==============================] - 0s 2ms/step - loss: 1.4545 - mse: 20.0989 - mae: 1.8243 - val_loss: 1.1451 - val_mse: 15.7236 - val_mae: 1.4373\n",
      "Epoch 13/28\n",
      "38/38 [==============================] - 0s 2ms/step - loss: 1.2236 - mse: 19.1751 - mae: 1.5586 - val_loss: 0.9914 - val_mse: 15.9126 - val_mae: 1.3034\n",
      "Epoch 14/28\n",
      "38/38 [==============================] - 0s 2ms/step - loss: 1.0676 - mse: 14.6731 - mae: 1.3735 - val_loss: 0.8735 - val_mse: 14.6084 - val_mae: 1.0979\n",
      "Epoch 15/28\n",
      "38/38 [==============================] - 0s 2ms/step - loss: 0.9858 - mse: 13.2146 - mae: 1.2953 - val_loss: 0.8846 - val_mse: 12.5708 - val_mae: 1.1197\n",
      "Epoch 16/28\n",
      "38/38 [==============================] - 0s 2ms/step - loss: 1.0345 - mse: 14.7324 - mae: 1.3396 - val_loss: 0.8519 - val_mse: 17.5294 - val_mae: 1.0916\n",
      "Epoch 17/28\n",
      "38/38 [==============================] - 0s 2ms/step - loss: 1.0535 - mse: 13.9615 - mae: 1.3916 - val_loss: 1.3345 - val_mse: 32.0451 - val_mae: 1.6151\n",
      "Epoch 18/28\n",
      "38/38 [==============================] - 0s 2ms/step - loss: 1.1566 - mse: 18.1764 - mae: 1.4838 - val_loss: 0.8623 - val_mse: 10.8209 - val_mae: 1.1525\n",
      "Epoch 19/28\n",
      "38/38 [==============================] - 0s 2ms/step - loss: 0.8799 - mse: 9.8397 - mae: 1.1838 - val_loss: 0.8808 - val_mse: 13.9749 - val_mae: 1.1444\n",
      "Epoch 20/28\n",
      "38/38 [==============================] - 0s 2ms/step - loss: 0.9085 - mse: 9.0868 - mae: 1.2083 - val_loss: 0.8757 - val_mse: 17.0283 - val_mae: 1.1245\n",
      "Epoch 21/28\n",
      "38/38 [==============================] - 0s 2ms/step - loss: 0.9169 - mse: 13.0232 - mae: 1.2283 - val_loss: 0.9898 - val_mse: 20.5226 - val_mae: 1.2530\n",
      "Epoch 22/28\n",
      "38/38 [==============================] - 0s 2ms/step - loss: 0.8284 - mse: 8.8398 - mae: 1.1224 - val_loss: 0.8100 - val_mse: 12.1941 - val_mae: 1.0818\n",
      "Epoch 23/28\n",
      "38/38 [==============================] - 0s 2ms/step - loss: 0.8126 - mse: 7.5751 - mae: 1.1216 - val_loss: 0.8389 - val_mse: 10.2847 - val_mae: 1.1290\n",
      "Epoch 24/28\n",
      "38/38 [==============================] - 0s 2ms/step - loss: 0.9068 - mse: 8.5008 - mae: 1.2331 - val_loss: 0.9627 - val_mse: 19.7491 - val_mae: 1.2276\n",
      "Epoch 25/28\n",
      "38/38 [==============================] - 0s 2ms/step - loss: 0.8614 - mse: 10.1052 - mae: 1.1522 - val_loss: 0.9494 - val_mse: 16.9215 - val_mae: 1.1636\n",
      "Epoch 26/28\n",
      "38/38 [==============================] - 0s 2ms/step - loss: 0.7316 - mse: 6.3216 - mae: 1.0395 - val_loss: 0.8219 - val_mse: 9.3709 - val_mae: 1.0846\n",
      "Epoch 27/28\n",
      "38/38 [==============================] - 0s 2ms/step - loss: 0.7704 - mse: 7.1241 - mae: 1.0615 - val_loss: 0.8191 - val_mse: 9.0065 - val_mae: 1.0623\n",
      "Epoch 28/28\n",
      "38/38 [==============================] - 0s 2ms/step - loss: 0.7725 - mse: 6.4115 - mae: 1.0650 - val_loss: 0.8560 - val_mse: 9.5690 - val_mae: 1.1291\n",
      "4/4 [==============================] - 0s 1ms/step - loss: 0.9558 - mse: 16.8758 - mae: 1.2410\n",
      "Test loss: 0.9557790160179138\n",
      "Test mse: 16.87584686279297\n",
      "Test mae: 1.2410218715667725\n"
     ]
    }
   ],
   "source": [
    "# Model training\n",
    "ephs = 28\n",
    "\n",
    "history = model.fit(X_train, np.array(y_train), batch_size=8 , epochs=ephs, validation_split=0.3)\n",
    "test_scores = model.evaluate(X_test, np.array(y_test), verbose=1)\n",
    "\n",
    "print(\"Test loss:\", test_scores[0])\n",
    "print(\"Test mse:\", test_scores[1])\n",
    "print(\"Test mae:\", test_scores[2])"
   ],
   "metadata": {
    "collapsed": false,
    "ExecuteTime": {
     "end_time": "2023-09-14T21:45:37.631561Z",
     "start_time": "2023-09-14T21:45:35.364422Z"
    }
   },
   "id": "1cb5093cc15a6b64"
  },
  {
   "cell_type": "code",
   "execution_count": 134,
   "outputs": [],
   "source": [],
   "metadata": {
    "collapsed": false,
    "ExecuteTime": {
     "end_time": "2023-09-14T21:45:37.636007Z",
     "start_time": "2023-09-14T21:45:37.631665Z"
    }
   },
   "id": "fbdf03691a09e903"
  },
  {
   "cell_type": "markdown",
   "source": [
    "### Classic ML models (regression)"
   ],
   "metadata": {
    "collapsed": false
   },
   "id": "6a21b457032619bc"
  },
  {
   "cell_type": "code",
   "execution_count": 135,
   "outputs": [
    {
     "data": {
      "text/plain": "ElasticNet(alpha=0.08)",
      "text/html": "<style>#sk-container-id-5 {color: black;}#sk-container-id-5 pre{padding: 0;}#sk-container-id-5 div.sk-toggleable {background-color: white;}#sk-container-id-5 label.sk-toggleable__label {cursor: pointer;display: block;width: 100%;margin-bottom: 0;padding: 0.3em;box-sizing: border-box;text-align: center;}#sk-container-id-5 label.sk-toggleable__label-arrow:before {content: \"▸\";float: left;margin-right: 0.25em;color: #696969;}#sk-container-id-5 label.sk-toggleable__label-arrow:hover:before {color: black;}#sk-container-id-5 div.sk-estimator:hover label.sk-toggleable__label-arrow:before {color: black;}#sk-container-id-5 div.sk-toggleable__content {max-height: 0;max-width: 0;overflow: hidden;text-align: left;background-color: #f0f8ff;}#sk-container-id-5 div.sk-toggleable__content pre {margin: 0.2em;color: black;border-radius: 0.25em;background-color: #f0f8ff;}#sk-container-id-5 input.sk-toggleable__control:checked~div.sk-toggleable__content {max-height: 200px;max-width: 100%;overflow: auto;}#sk-container-id-5 input.sk-toggleable__control:checked~label.sk-toggleable__label-arrow:before {content: \"▾\";}#sk-container-id-5 div.sk-estimator input.sk-toggleable__control:checked~label.sk-toggleable__label {background-color: #d4ebff;}#sk-container-id-5 div.sk-label input.sk-toggleable__control:checked~label.sk-toggleable__label {background-color: #d4ebff;}#sk-container-id-5 input.sk-hidden--visually {border: 0;clip: rect(1px 1px 1px 1px);clip: rect(1px, 1px, 1px, 1px);height: 1px;margin: -1px;overflow: hidden;padding: 0;position: absolute;width: 1px;}#sk-container-id-5 div.sk-estimator {font-family: monospace;background-color: #f0f8ff;border: 1px dotted black;border-radius: 0.25em;box-sizing: border-box;margin-bottom: 0.5em;}#sk-container-id-5 div.sk-estimator:hover {background-color: #d4ebff;}#sk-container-id-5 div.sk-parallel-item::after {content: \"\";width: 100%;border-bottom: 1px solid gray;flex-grow: 1;}#sk-container-id-5 div.sk-label:hover label.sk-toggleable__label {background-color: #d4ebff;}#sk-container-id-5 div.sk-serial::before {content: \"\";position: absolute;border-left: 1px solid gray;box-sizing: border-box;top: 0;bottom: 0;left: 50%;z-index: 0;}#sk-container-id-5 div.sk-serial {display: flex;flex-direction: column;align-items: center;background-color: white;padding-right: 0.2em;padding-left: 0.2em;position: relative;}#sk-container-id-5 div.sk-item {position: relative;z-index: 1;}#sk-container-id-5 div.sk-parallel {display: flex;align-items: stretch;justify-content: center;background-color: white;position: relative;}#sk-container-id-5 div.sk-item::before, #sk-container-id-5 div.sk-parallel-item::before {content: \"\";position: absolute;border-left: 1px solid gray;box-sizing: border-box;top: 0;bottom: 0;left: 50%;z-index: -1;}#sk-container-id-5 div.sk-parallel-item {display: flex;flex-direction: column;z-index: 1;position: relative;background-color: white;}#sk-container-id-5 div.sk-parallel-item:first-child::after {align-self: flex-end;width: 50%;}#sk-container-id-5 div.sk-parallel-item:last-child::after {align-self: flex-start;width: 50%;}#sk-container-id-5 div.sk-parallel-item:only-child::after {width: 0;}#sk-container-id-5 div.sk-dashed-wrapped {border: 1px dashed gray;margin: 0 0.4em 0.5em 0.4em;box-sizing: border-box;padding-bottom: 0.4em;background-color: white;}#sk-container-id-5 div.sk-label label {font-family: monospace;font-weight: bold;display: inline-block;line-height: 1.2em;}#sk-container-id-5 div.sk-label-container {text-align: center;}#sk-container-id-5 div.sk-container {/* jupyter's `normalize.less` sets `[hidden] { display: none; }` but bootstrap.min.css set `[hidden] { display: none !important; }` so we also need the `!important` here to be able to override the default hidden behavior on the sphinx rendered scikit-learn.org. See: https://github.com/scikit-learn/scikit-learn/issues/21755 */display: inline-block !important;position: relative;}#sk-container-id-5 div.sk-text-repr-fallback {display: none;}</style><div id=\"sk-container-id-5\" class=\"sk-top-container\"><div class=\"sk-text-repr-fallback\"><pre>ElasticNet(alpha=0.08)</pre><b>In a Jupyter environment, please rerun this cell to show the HTML representation or trust the notebook. <br />On GitHub, the HTML representation is unable to render, please try loading this page with nbviewer.org.</b></div><div class=\"sk-container\" hidden><div class=\"sk-item\"><div class=\"sk-estimator sk-toggleable\"><input class=\"sk-toggleable__control sk-hidden--visually\" id=\"sk-estimator-id-5\" type=\"checkbox\" checked><label for=\"sk-estimator-id-5\" class=\"sk-toggleable__label sk-toggleable__label-arrow\">ElasticNet</label><div class=\"sk-toggleable__content\"><pre>ElasticNet(alpha=0.08)</pre></div></div></div></div></div>"
     },
     "execution_count": 135,
     "metadata": {},
     "output_type": "execute_result"
    }
   ],
   "source": [
    "# Testing classic ML algorithms \n",
    "\n",
    "from sklearn import linear_model\n",
    "reg_Lasso = linear_model.Lasso(alpha=0.1)\n",
    "reg_Lasso.fit(X_train,y_train)\n",
    "\n",
    "from sklearn.linear_model import ARDRegression\n",
    "reg_ard = ARDRegression()\n",
    "reg_ard.fit(X_train, y_train)\n",
    "\n",
    "from sklearn.linear_model import ElasticNet\n",
    "reg_enet = ElasticNet(alpha=0.08, l1_ratio=0.5)\n",
    "reg_enet.fit(X_train, y_train)\n"
   ],
   "metadata": {
    "collapsed": false,
    "ExecuteTime": {
     "end_time": "2023-09-14T21:45:37.644691Z",
     "start_time": "2023-09-14T21:45:37.635076Z"
    }
   },
   "id": "81aea32da669b6a2"
  },
  {
   "cell_type": "code",
   "execution_count": 136,
   "outputs": [],
   "source": [
    "# Making a forecast using the resulting models \n",
    "predicted_y_Lasso = reg_Lasso.predict(X_test)\n",
    "predicted_y_ard = reg_ard.predict(X_test)\n",
    "predicted_y_enet = reg_enet.predict(X_test)"
   ],
   "metadata": {
    "collapsed": false,
    "ExecuteTime": {
     "end_time": "2023-09-14T21:45:37.654372Z",
     "start_time": "2023-09-14T21:45:37.644368Z"
    }
   },
   "id": "317827e2049b756"
  },
  {
   "cell_type": "code",
   "execution_count": 137,
   "outputs": [],
   "source": [
    "# Receiving model metrics\n",
    "\n",
    "from sklearn.metrics import explained_variance_score\n",
    "from sklearn.metrics import mean_absolute_error\n",
    "from sklearn.metrics import mean_squared_error\n",
    "\n",
    "EVS_Lasso = explained_variance_score(y_test, predicted_y_Lasso)\n",
    "MAE_Lasso = mean_absolute_error(y_test, predicted_y_Lasso)\n",
    "MSE_Lasso = mean_squared_error(y_test, predicted_y_Lasso)\n",
    "\n",
    "EVS_ard = explained_variance_score(y_test, predicted_y_ard)\n",
    "MAE_ard = mean_absolute_error(y_test, predicted_y_ard)\n",
    "MSE_ard = mean_squared_error(y_test, predicted_y_ard)\n",
    "\n",
    "EVS_enet = explained_variance_score(y_test, predicted_y_enet)\n",
    "MAE_enet = mean_absolute_error(y_test, predicted_y_enet)\n",
    "MSE_enet = mean_squared_error(y_test, predicted_y_enet)"
   ],
   "metadata": {
    "collapsed": false,
    "ExecuteTime": {
     "end_time": "2023-09-14T21:45:37.654836Z",
     "start_time": "2023-09-14T21:45:37.652068Z"
    }
   },
   "id": "41fec4a6057ef96c"
  },
  {
   "cell_type": "code",
   "execution_count": 137,
   "outputs": [],
   "source": [],
   "metadata": {
    "collapsed": false,
    "ExecuteTime": {
     "end_time": "2023-09-14T21:45:37.656262Z",
     "start_time": "2023-09-14T21:45:37.653723Z"
    }
   },
   "id": "eb67d5843c44a65f"
  },
  {
   "cell_type": "markdown",
   "source": [
    "### Regression results"
   ],
   "metadata": {
    "collapsed": false
   },
   "id": "59fd74808a30b23"
  },
  {
   "cell_type": "code",
   "execution_count": 138,
   "outputs": [
    {
     "data": {
      "text/plain": "                    EVS       MAE         MSE\nLasso          0.778256  1.803692   43.906529\nARDRegression  0.835284  1.827691   32.814800\nElasticNet     0.375667  3.724602  123.186156\nCNN                 NaN  1.241022   16.875847",
      "text/html": "<div>\n<style scoped>\n    .dataframe tbody tr th:only-of-type {\n        vertical-align: middle;\n    }\n\n    .dataframe tbody tr th {\n        vertical-align: top;\n    }\n\n    .dataframe thead th {\n        text-align: right;\n    }\n</style>\n<table border=\"1\" class=\"dataframe\">\n  <thead>\n    <tr style=\"text-align: right;\">\n      <th></th>\n      <th>EVS</th>\n      <th>MAE</th>\n      <th>MSE</th>\n    </tr>\n  </thead>\n  <tbody>\n    <tr>\n      <th>Lasso</th>\n      <td>0.778256</td>\n      <td>1.803692</td>\n      <td>43.906529</td>\n    </tr>\n    <tr>\n      <th>ARDRegression</th>\n      <td>0.835284</td>\n      <td>1.827691</td>\n      <td>32.814800</td>\n    </tr>\n    <tr>\n      <th>ElasticNet</th>\n      <td>0.375667</td>\n      <td>3.724602</td>\n      <td>123.186156</td>\n    </tr>\n    <tr>\n      <th>CNN</th>\n      <td>NaN</td>\n      <td>1.241022</td>\n      <td>16.875847</td>\n    </tr>\n  </tbody>\n</table>\n</div>"
     },
     "execution_count": 138,
     "metadata": {},
     "output_type": "execute_result"
    }
   ],
   "source": [
    "# Returns summary table for gotten model metrics\n",
    "\n",
    "reg_summary = pd.DataFrame({'Lasso':[EVS_Lasso, MAE_Lasso, MSE_Lasso],\n",
    "                            'ARDRegression':[EVS_ard, MAE_ard, MSE_ard],\n",
    "                            'ElasticNet':[EVS_enet, MAE_enet, MSE_enet],\n",
    "                            'CNN':[None, test_scores[2], test_scores[1]]},\n",
    "                           index=['EVS', 'MAE', 'MSE']).T\n",
    "reg_summary"
   ],
   "metadata": {
    "collapsed": false,
    "ExecuteTime": {
     "end_time": "2023-09-14T21:45:37.663862Z",
     "start_time": "2023-09-14T21:45:37.659330Z"
    }
   },
   "id": "1551246aff87faed"
  },
  {
   "cell_type": "markdown",
   "source": [
    "Вывод: для классификации предлагается использовать модели глубокого обучения,\n",
    "т.к. они показывают лучшие результаты. В частности, сверточную нейронную сеть.\n",
    "Каждую полученную модель можно сохранить и использовать в дальнейшем."
   ],
   "metadata": {
    "collapsed": false
   },
   "id": "d20345dc5cba8295"
  },
  {
   "cell_type": "markdown",
   "source": [
    "# Classification. Predicts 1 when profit > 0, and 0 otherwise."
   ],
   "metadata": {
    "collapsed": false
   },
   "id": "d957304c361577e3"
  },
  {
   "cell_type": "code",
   "execution_count": 153,
   "outputs": [],
   "source": [
    "# Slicing original dataset to train and test samples\n",
    "X_train, X_test, y_train, y_test = train_test_split(X_scaled, Y_class, test_size=0.2, random_state=42)"
   ],
   "metadata": {
    "collapsed": false,
    "ExecuteTime": {
     "end_time": "2023-09-15T07:51:01.132734Z",
     "start_time": "2023-09-15T07:51:01.129359Z"
    }
   },
   "id": "492e26a2fc1bcfd8"
  },
  {
   "cell_type": "markdown",
   "source": [
    "### Neural networks"
   ],
   "metadata": {
    "collapsed": false
   },
   "id": "5e0d83f04469d7b6"
  },
  {
   "cell_type": "markdown",
   "source": [
    "Convolutional Neural network"
   ],
   "metadata": {
    "collapsed": false
   },
   "id": "9a4c048c768e8e75"
  },
  {
   "cell_type": "code",
   "execution_count": 140,
   "outputs": [
    {
     "name": "stdout",
     "output_type": "stream",
     "text": [
      "Model: \"classification-model\"\n",
      "_________________________________________________________________\n",
      " Layer (type)                Output Shape              Param #   \n",
      "=================================================================\n",
      " input_25 (InputLayer)       [(None, 6, 1)]            0         \n",
      "                                                                 \n",
      " batch_normalization_24 (Ba  (None, 6, 1)              4         \n",
      " tchNormalization)                                               \n",
      "                                                                 \n",
      " conv1d_22 (Conv1D)          (None, 5, 5)              15        \n",
      "                                                                 \n",
      " dense_93 (Dense)            (None, 5, 300)            1800      \n",
      "                                                                 \n",
      " dense_94 (Dense)            (None, 5, 150)            45150     \n",
      "                                                                 \n",
      " dense_95 (Dense)            (None, 5, 75)             11325     \n",
      "                                                                 \n",
      " dropout_19 (Dropout)        (None, 5, 75)             0         \n",
      "                                                                 \n",
      " flatten_24 (Flatten)        (None, 375)               0         \n",
      "                                                                 \n",
      " dense_96 (Dense)            (None, 1)                 376       \n",
      "                                                                 \n",
      "=================================================================\n",
      "Total params: 58670 (229.18 KB)\n",
      "Trainable params: 58668 (229.17 KB)\n",
      "Non-trainable params: 2 (8.00 Byte)\n",
      "_________________________________________________________________\n"
     ]
    }
   ],
   "source": [
    "# Defining model\n",
    "inputs = keras.Input(shape=(6,1))\n",
    "x = layers.BatchNormalization()(inputs)\n",
    "\n",
    "x = layers.Conv1D(filters=5, kernel_size=(2), activation='relu')(x)\n",
    "x = layers.Dense(300, activation='relu')(x)\n",
    "x = layers.Dense(150, activation='relu')(x)\n",
    "x = layers.Dense(75, activation='relu')(x)\n",
    "x = layers.Dropout(0.2)(x)\n",
    "x = layers.Flatten()(x)\n",
    "outputs = keras.layers.Dense(1, activation='sigmoid')(x)\n",
    "\n",
    "model_class = keras.Model(inputs=inputs, outputs=outputs, name=\"classification-model\")\n",
    "model_class.summary()"
   ],
   "metadata": {
    "collapsed": false,
    "ExecuteTime": {
     "end_time": "2023-09-14T21:45:37.748104Z",
     "start_time": "2023-09-14T21:45:37.674115Z"
    }
   },
   "id": "b031d10d4f59745c"
  },
  {
   "cell_type": "code",
   "execution_count": 141,
   "outputs": [],
   "source": [
    "model_class.compile(\n",
    "    loss=tf.keras.losses.MeanSquaredError(),\n",
    "    optimizer=keras.optimizers.legacy.Adam(learning_rate=0.002),\n",
    "    metrics=[ 'accuracy', tf.keras.metrics.Precision(),tf.keras.metrics.Recall()],\n",
    ")"
   ],
   "metadata": {
    "collapsed": false,
    "ExecuteTime": {
     "end_time": "2023-09-14T21:45:37.748483Z",
     "start_time": "2023-09-14T21:45:37.724056Z"
    }
   },
   "id": "ccfd71098c4260b5"
  },
  {
   "cell_type": "code",
   "execution_count": 142,
   "outputs": [
    {
     "name": "stdout",
     "output_type": "stream",
     "text": [
      "Epoch 1/16\n",
      "43/43 [==============================] - 0s 4ms/step - loss: 0.1373 - accuracy: 0.8676 - precision_21: 0.0000e+00 - recall_21: 0.0000e+00 - val_loss: 0.1257 - val_accuracy: 0.9176 - val_precision_21: 0.0000e+00 - val_recall_21: 0.0000e+00\n",
      "Epoch 2/16\n",
      "43/43 [==============================] - 0s 1ms/step - loss: 0.1127 - accuracy: 0.8676 - precision_21: 0.0000e+00 - recall_21: 0.0000e+00 - val_loss: 0.0780 - val_accuracy: 0.9176 - val_precision_21: 0.0000e+00 - val_recall_21: 0.0000e+00\n",
      "Epoch 3/16\n",
      "43/43 [==============================] - 0s 2ms/step - loss: 0.0996 - accuracy: 0.8618 - precision_21: 0.4000 - recall_21: 0.0889 - val_loss: 0.0806 - val_accuracy: 0.9176 - val_precision_21: 0.0000e+00 - val_recall_21: 0.0000e+00\n",
      "Epoch 4/16\n",
      "43/43 [==============================] - 0s 2ms/step - loss: 0.0885 - accuracy: 0.8765 - precision_21: 0.5882 - recall_21: 0.2222 - val_loss: 0.0740 - val_accuracy: 0.9176 - val_precision_21: 0.0000e+00 - val_recall_21: 0.0000e+00\n",
      "Epoch 5/16\n",
      "43/43 [==============================] - 0s 2ms/step - loss: 0.0897 - accuracy: 0.8794 - precision_21: 0.6250 - recall_21: 0.2222 - val_loss: 0.0611 - val_accuracy: 0.9176 - val_precision_21: 0.5000 - val_recall_21: 0.1429\n",
      "Epoch 6/16\n",
      "43/43 [==============================] - 0s 2ms/step - loss: 0.0750 - accuracy: 0.9000 - precision_21: 0.7619 - recall_21: 0.3556 - val_loss: 0.0535 - val_accuracy: 0.9294 - val_precision_21: 0.6000 - val_recall_21: 0.4286\n",
      "Epoch 7/16\n",
      "43/43 [==============================] - 0s 2ms/step - loss: 0.0673 - accuracy: 0.9088 - precision_21: 0.7333 - recall_21: 0.4889 - val_loss: 0.0481 - val_accuracy: 0.9529 - val_precision_21: 0.8000 - val_recall_21: 0.5714\n",
      "Epoch 8/16\n",
      "43/43 [==============================] - 0s 2ms/step - loss: 0.0779 - accuracy: 0.9000 - precision_21: 0.7037 - recall_21: 0.4222 - val_loss: 0.0488 - val_accuracy: 0.9176 - val_precision_21: 0.5000 - val_recall_21: 0.4286\n",
      "Epoch 9/16\n",
      "43/43 [==============================] - 0s 2ms/step - loss: 0.0586 - accuracy: 0.9294 - precision_21: 0.8387 - recall_21: 0.5778 - val_loss: 0.0738 - val_accuracy: 0.8941 - val_precision_21: 0.4286 - val_recall_21: 0.8571\n",
      "Epoch 10/16\n",
      "43/43 [==============================] - 0s 2ms/step - loss: 0.0620 - accuracy: 0.9206 - precision_21: 0.7368 - recall_21: 0.6222 - val_loss: 0.0375 - val_accuracy: 0.9529 - val_precision_21: 1.0000 - val_recall_21: 0.4286\n",
      "Epoch 11/16\n",
      "43/43 [==============================] - 0s 2ms/step - loss: 0.0598 - accuracy: 0.9147 - precision_21: 0.7667 - recall_21: 0.5111 - val_loss: 0.0514 - val_accuracy: 0.9176 - val_precision_21: 0.5000 - val_recall_21: 0.8571\n",
      "Epoch 12/16\n",
      "43/43 [==============================] - 0s 2ms/step - loss: 0.0602 - accuracy: 0.9235 - precision_21: 0.8276 - recall_21: 0.5333 - val_loss: 0.0736 - val_accuracy: 0.8941 - val_precision_21: 0.4286 - val_recall_21: 0.8571\n",
      "Epoch 13/16\n",
      "43/43 [==============================] - 0s 2ms/step - loss: 0.0570 - accuracy: 0.9235 - precision_21: 0.7879 - recall_21: 0.5778 - val_loss: 0.0339 - val_accuracy: 0.9765 - val_precision_21: 0.8571 - val_recall_21: 0.8571\n",
      "Epoch 14/16\n",
      "43/43 [==============================] - 0s 2ms/step - loss: 0.0451 - accuracy: 0.9412 - precision_21: 0.8205 - recall_21: 0.7111 - val_loss: 0.0363 - val_accuracy: 0.9412 - val_precision_21: 0.6000 - val_recall_21: 0.8571\n",
      "Epoch 15/16\n",
      "43/43 [==============================] - 0s 2ms/step - loss: 0.0541 - accuracy: 0.9235 - precision_21: 0.7879 - recall_21: 0.5778 - val_loss: 0.0482 - val_accuracy: 0.9412 - val_precision_21: 0.6000 - val_recall_21: 0.8571\n",
      "Epoch 16/16\n",
      "43/43 [==============================] - 0s 2ms/step - loss: 0.0696 - accuracy: 0.9147 - precision_21: 0.7667 - recall_21: 0.5111 - val_loss: 0.0528 - val_accuracy: 0.9176 - val_precision_21: 0.5000 - val_recall_21: 0.5714\n",
      "4/4 [==============================] - 0s 1ms/step - loss: 0.0535 - accuracy: 0.9439 - precision_21: 0.8462 - recall_21: 0.7333\n"
     ]
    }
   ],
   "source": [
    "# Model training\n",
    "ephs = 16\n",
    "\n",
    "history = model_class.fit(X_train, np.array(y_train), batch_size=8 , epochs=ephs, validation_split=0.2)\n",
    "test_scores_CNN_class = model_class.evaluate(X_test, np.array(y_test), verbose=1)\n"
   ],
   "metadata": {
    "collapsed": false,
    "ExecuteTime": {
     "end_time": "2023-09-14T21:45:39.329197Z",
     "start_time": "2023-09-14T21:45:37.731129Z"
    }
   },
   "id": "bf7ade9fda2ac72c"
  },
  {
   "cell_type": "markdown",
   "source": [
    "fully connected neural network"
   ],
   "metadata": {
    "collapsed": false
   },
   "id": "646fcf8a347d9b52"
  },
  {
   "cell_type": "code",
   "execution_count": 143,
   "outputs": [
    {
     "name": "stdout",
     "output_type": "stream",
     "text": [
      "Model: \"classification-model\"\n",
      "_________________________________________________________________\n",
      " Layer (type)                Output Shape              Param #   \n",
      "=================================================================\n",
      " input_26 (InputLayer)       [(None, 6, 1)]            0         \n",
      "                                                                 \n",
      " batch_normalization_25 (Ba  (None, 6, 1)              4         \n",
      " tchNormalization)                                               \n",
      "                                                                 \n",
      " dense_97 (Dense)            (None, 6, 300)            600       \n",
      "                                                                 \n",
      " dense_98 (Dense)            (None, 6, 150)            45150     \n",
      "                                                                 \n",
      " dense_99 (Dense)            (None, 6, 70)             10570     \n",
      "                                                                 \n",
      " dropout_20 (Dropout)        (None, 6, 70)             0         \n",
      "                                                                 \n",
      " flatten_25 (Flatten)        (None, 420)               0         \n",
      "                                                                 \n",
      " dense_100 (Dense)           (None, 1)                 421       \n",
      "                                                                 \n",
      "=================================================================\n",
      "Total params: 56745 (221.66 KB)\n",
      "Trainable params: 56743 (221.65 KB)\n",
      "Non-trainable params: 2 (8.00 Byte)\n",
      "_________________________________________________________________\n"
     ]
    }
   ],
   "source": [
    "# Defining model\n",
    "inputs = keras.Input(shape=(6,1))\n",
    "x = layers.BatchNormalization()(inputs)\n",
    "x = layers.Dense(300, activation='relu')(x)\n",
    "x = layers.Dense(150, activation='relu')(x)\n",
    "x = layers.Dense(70, activation='relu')(x)\n",
    "x = layers.Dropout(0.2)(x)\n",
    "x = layers.Flatten()(x)\n",
    "outputs = keras.layers.Dense(1, activation='sigmoid')(x)\n",
    "\n",
    "model = keras.Model(inputs=inputs, outputs=outputs, name=\"classification-model\")\n",
    "model.summary()"
   ],
   "metadata": {
    "collapsed": false,
    "ExecuteTime": {
     "end_time": "2023-09-14T21:45:39.379146Z",
     "start_time": "2023-09-14T21:45:39.328947Z"
    }
   },
   "id": "9cd81857d07a26a2"
  },
  {
   "cell_type": "code",
   "execution_count": 144,
   "outputs": [],
   "source": [
    "model.compile(\n",
    "    loss=tf.keras.losses.MeanSquaredError(),\n",
    "    optimizer=keras.optimizers.legacy.Adam(learning_rate=0.001),\n",
    "    metrics=[ 'accuracy', tf.keras.metrics.Precision(),tf.keras.metrics.Recall()],\n",
    ")"
   ],
   "metadata": {
    "collapsed": false,
    "ExecuteTime": {
     "end_time": "2023-09-14T21:45:39.379461Z",
     "start_time": "2023-09-14T21:45:39.365982Z"
    }
   },
   "id": "ba2bf39284203ce5"
  },
  {
   "cell_type": "code",
   "execution_count": 145,
   "outputs": [
    {
     "name": "stdout",
     "output_type": "stream",
     "text": [
      "Epoch 1/10\n",
      "340/340 [==============================] - 1s 2ms/step - loss: 0.1246 - accuracy: 0.8647 - precision_22: 0.0000e+00 - recall_22: 0.0000e+00 - val_loss: 0.0829 - val_accuracy: 0.9176 - val_precision_22: 0.0000e+00 - val_recall_22: 0.0000e+00\n",
      "Epoch 2/10\n",
      "340/340 [==============================] - 0s 1ms/step - loss: 0.1028 - accuracy: 0.8588 - precision_22: 0.0000e+00 - recall_22: 0.0000e+00 - val_loss: 0.0721 - val_accuracy: 0.9176 - val_precision_22: 0.0000e+00 - val_recall_22: 0.0000e+00\n",
      "Epoch 3/10\n",
      "340/340 [==============================] - 0s 919us/step - loss: 0.1027 - accuracy: 0.8618 - precision_22: 0.3750 - recall_22: 0.0667 - val_loss: 0.0811 - val_accuracy: 0.9059 - val_precision_22: 0.3333 - val_recall_22: 0.1429\n",
      "Epoch 4/10\n",
      "340/340 [==============================] - 0s 1ms/step - loss: 0.0920 - accuracy: 0.8647 - precision_22: 0.4737 - recall_22: 0.2000 - val_loss: 0.0789 - val_accuracy: 0.9059 - val_precision_22: 0.4000 - val_recall_22: 0.2857\n",
      "Epoch 5/10\n",
      "340/340 [==============================] - 0s 942us/step - loss: 0.0875 - accuracy: 0.8912 - precision_22: 0.6667 - recall_22: 0.3556 - val_loss: 0.0771 - val_accuracy: 0.8941 - val_precision_22: 0.3333 - val_recall_22: 0.2857\n",
      "Epoch 6/10\n",
      "340/340 [==============================] - 0s 960us/step - loss: 0.0834 - accuracy: 0.8971 - precision_22: 0.6562 - recall_22: 0.4667 - val_loss: 0.0689 - val_accuracy: 0.9176 - val_precision_22: 0.0000e+00 - val_recall_22: 0.0000e+00\n",
      "Epoch 7/10\n",
      "340/340 [==============================] - 0s 931us/step - loss: 0.0792 - accuracy: 0.8941 - precision_22: 0.7647 - recall_22: 0.2889 - val_loss: 0.0626 - val_accuracy: 0.9059 - val_precision_22: 0.4000 - val_recall_22: 0.2857\n",
      "Epoch 8/10\n",
      "340/340 [==============================] - 0s 931us/step - loss: 0.0748 - accuracy: 0.9088 - precision_22: 0.7333 - recall_22: 0.4889 - val_loss: 0.0653 - val_accuracy: 0.9294 - val_precision_22: 1.0000 - val_recall_22: 0.1429\n",
      "Epoch 9/10\n",
      "340/340 [==============================] - 0s 967us/step - loss: 0.0737 - accuracy: 0.9118 - precision_22: 0.7778 - recall_22: 0.4667 - val_loss: 0.0619 - val_accuracy: 0.9294 - val_precision_22: 1.0000 - val_recall_22: 0.1429\n",
      "Epoch 10/10\n",
      "340/340 [==============================] - 0s 954us/step - loss: 0.0744 - accuracy: 0.9059 - precision_22: 0.6970 - recall_22: 0.5111 - val_loss: 0.0630 - val_accuracy: 0.9294 - val_precision_22: 1.0000 - val_recall_22: 0.1429\n",
      "4/4 [==============================] - 0s 2ms/step - loss: 0.1133 - accuracy: 0.8879 - precision_22: 1.0000 - recall_22: 0.2000\n"
     ]
    }
   ],
   "source": [
    "# Model training\n",
    "ephs = 10\n",
    "\n",
    "history = model.fit(X_train, np.array(y_train), batch_size=1 , epochs=ephs, validation_split=0.2)\n",
    "test_scores_DNN_class = model.evaluate(X_test, np.array(y_test), verbose=1)\n"
   ],
   "metadata": {
    "collapsed": false,
    "ExecuteTime": {
     "end_time": "2023-09-14T21:45:43.554392Z",
     "start_time": "2023-09-14T21:45:39.371098Z"
    }
   },
   "id": "81972098057372f1"
  },
  {
   "cell_type": "markdown",
   "source": [
    "### Classic ML models"
   ],
   "metadata": {
    "collapsed": false
   },
   "id": "d56897913acec89b"
  },
  {
   "cell_type": "code",
   "execution_count": 146,
   "outputs": [
    {
     "name": "stderr",
     "output_type": "stream",
     "text": [
      "/Users/aliceion/techtask/lib/python3.11/site-packages/sklearn/linear_model/_stochastic_gradient.py:713: ConvergenceWarning: Maximum number of iteration reached before convergence. Consider increasing max_iter to improve the fit.\n",
      "  warnings.warn(\n"
     ]
    },
    {
     "data": {
      "text/plain": "NearestCentroid()",
      "text/html": "<style>#sk-container-id-6 {color: black;}#sk-container-id-6 pre{padding: 0;}#sk-container-id-6 div.sk-toggleable {background-color: white;}#sk-container-id-6 label.sk-toggleable__label {cursor: pointer;display: block;width: 100%;margin-bottom: 0;padding: 0.3em;box-sizing: border-box;text-align: center;}#sk-container-id-6 label.sk-toggleable__label-arrow:before {content: \"▸\";float: left;margin-right: 0.25em;color: #696969;}#sk-container-id-6 label.sk-toggleable__label-arrow:hover:before {color: black;}#sk-container-id-6 div.sk-estimator:hover label.sk-toggleable__label-arrow:before {color: black;}#sk-container-id-6 div.sk-toggleable__content {max-height: 0;max-width: 0;overflow: hidden;text-align: left;background-color: #f0f8ff;}#sk-container-id-6 div.sk-toggleable__content pre {margin: 0.2em;color: black;border-radius: 0.25em;background-color: #f0f8ff;}#sk-container-id-6 input.sk-toggleable__control:checked~div.sk-toggleable__content {max-height: 200px;max-width: 100%;overflow: auto;}#sk-container-id-6 input.sk-toggleable__control:checked~label.sk-toggleable__label-arrow:before {content: \"▾\";}#sk-container-id-6 div.sk-estimator input.sk-toggleable__control:checked~label.sk-toggleable__label {background-color: #d4ebff;}#sk-container-id-6 div.sk-label input.sk-toggleable__control:checked~label.sk-toggleable__label {background-color: #d4ebff;}#sk-container-id-6 input.sk-hidden--visually {border: 0;clip: rect(1px 1px 1px 1px);clip: rect(1px, 1px, 1px, 1px);height: 1px;margin: -1px;overflow: hidden;padding: 0;position: absolute;width: 1px;}#sk-container-id-6 div.sk-estimator {font-family: monospace;background-color: #f0f8ff;border: 1px dotted black;border-radius: 0.25em;box-sizing: border-box;margin-bottom: 0.5em;}#sk-container-id-6 div.sk-estimator:hover {background-color: #d4ebff;}#sk-container-id-6 div.sk-parallel-item::after {content: \"\";width: 100%;border-bottom: 1px solid gray;flex-grow: 1;}#sk-container-id-6 div.sk-label:hover label.sk-toggleable__label {background-color: #d4ebff;}#sk-container-id-6 div.sk-serial::before {content: \"\";position: absolute;border-left: 1px solid gray;box-sizing: border-box;top: 0;bottom: 0;left: 50%;z-index: 0;}#sk-container-id-6 div.sk-serial {display: flex;flex-direction: column;align-items: center;background-color: white;padding-right: 0.2em;padding-left: 0.2em;position: relative;}#sk-container-id-6 div.sk-item {position: relative;z-index: 1;}#sk-container-id-6 div.sk-parallel {display: flex;align-items: stretch;justify-content: center;background-color: white;position: relative;}#sk-container-id-6 div.sk-item::before, #sk-container-id-6 div.sk-parallel-item::before {content: \"\";position: absolute;border-left: 1px solid gray;box-sizing: border-box;top: 0;bottom: 0;left: 50%;z-index: -1;}#sk-container-id-6 div.sk-parallel-item {display: flex;flex-direction: column;z-index: 1;position: relative;background-color: white;}#sk-container-id-6 div.sk-parallel-item:first-child::after {align-self: flex-end;width: 50%;}#sk-container-id-6 div.sk-parallel-item:last-child::after {align-self: flex-start;width: 50%;}#sk-container-id-6 div.sk-parallel-item:only-child::after {width: 0;}#sk-container-id-6 div.sk-dashed-wrapped {border: 1px dashed gray;margin: 0 0.4em 0.5em 0.4em;box-sizing: border-box;padding-bottom: 0.4em;background-color: white;}#sk-container-id-6 div.sk-label label {font-family: monospace;font-weight: bold;display: inline-block;line-height: 1.2em;}#sk-container-id-6 div.sk-label-container {text-align: center;}#sk-container-id-6 div.sk-container {/* jupyter's `normalize.less` sets `[hidden] { display: none; }` but bootstrap.min.css set `[hidden] { display: none !important; }` so we also need the `!important` here to be able to override the default hidden behavior on the sphinx rendered scikit-learn.org. See: https://github.com/scikit-learn/scikit-learn/issues/21755 */display: inline-block !important;position: relative;}#sk-container-id-6 div.sk-text-repr-fallback {display: none;}</style><div id=\"sk-container-id-6\" class=\"sk-top-container\"><div class=\"sk-text-repr-fallback\"><pre>NearestCentroid()</pre><b>In a Jupyter environment, please rerun this cell to show the HTML representation or trust the notebook. <br />On GitHub, the HTML representation is unable to render, please try loading this page with nbviewer.org.</b></div><div class=\"sk-container\" hidden><div class=\"sk-item\"><div class=\"sk-estimator sk-toggleable\"><input class=\"sk-toggleable__control sk-hidden--visually\" id=\"sk-estimator-id-6\" type=\"checkbox\" checked><label for=\"sk-estimator-id-6\" class=\"sk-toggleable__label sk-toggleable__label-arrow\">NearestCentroid</label><div class=\"sk-toggleable__content\"><pre>NearestCentroid()</pre></div></div></div></div></div>"
     },
     "execution_count": 146,
     "metadata": {},
     "output_type": "execute_result"
    }
   ],
   "source": [
    "# Testing classic ML algorithms \n",
    "\n",
    "from sklearn import svm\n",
    "clf_SVC = svm.SVC()\n",
    "clf_SVC.fit(X_train,y_train)\n",
    "\n",
    "from sklearn.linear_model import SGDClassifier\n",
    "clf_SGD = SGDClassifier(loss=\"hinge\", penalty=\"l2\", max_iter=5)\n",
    "clf_SGD.fit(X_train, y_train)\n",
    "\n",
    "from sklearn.neighbors import NearestCentroid\n",
    "clf_NC = NearestCentroid()\n",
    "clf_NC.fit(X_train, y_train)"
   ],
   "metadata": {
    "collapsed": false,
    "ExecuteTime": {
     "end_time": "2023-09-14T21:45:43.562092Z",
     "start_time": "2023-09-14T21:45:43.554541Z"
    }
   },
   "id": "47a5f2aae50670b1"
  },
  {
   "cell_type": "code",
   "execution_count": 146,
   "outputs": [],
   "source": [],
   "metadata": {
    "collapsed": false,
    "ExecuteTime": {
     "end_time": "2023-09-14T21:45:43.563152Z",
     "start_time": "2023-09-14T21:45:43.562051Z"
    }
   },
   "id": "ecb5451f27d05118"
  },
  {
   "cell_type": "code",
   "execution_count": 147,
   "outputs": [],
   "source": [
    "# method for calculating precision and recall for received data\n",
    "def metrics_class(y_test, y_pred):\n",
    "    TN, TP, FN, FP = 0, 0, 0, 0\n",
    "\n",
    "    for i in range(len(y_test)):\n",
    "        if y_pred[i] == 0 and y_test[i] == 0:\n",
    "            TN += 1\n",
    "        if y_pred[i] == 1 and y_test[i] == 1:\n",
    "            TP += 1\n",
    "        if y_pred[i] == 0 and y_test[i] == 1:\n",
    "            FN += 1\n",
    "        if y_pred[i] == 1 and y_test[i] == 0:\n",
    "            FP += 1\n",
    "    \n",
    "    precision = TP/(TP+FP)\n",
    "    recall = TP/(TP+FN)\n",
    "    \n",
    "    return precision, recall"
   ],
   "metadata": {
    "collapsed": false,
    "ExecuteTime": {
     "end_time": "2023-09-14T21:45:43.570204Z",
     "start_time": "2023-09-14T21:45:43.565490Z"
    }
   },
   "id": "cc046c70f6642000"
  },
  {
   "cell_type": "code",
   "execution_count": 148,
   "outputs": [],
   "source": [
    "# Making predictions using the resulting models \n",
    "predicted_y_SVC = clf_SVC.predict(X_test)\n",
    "predicted_y_SGD = clf_SGD.predict(X_test)\n",
    "predicted_y_NC = clf_NC.predict(X_test)\n",
    "\n",
    "precision_SVC, recall_SVC = metrics_class(y_test, predicted_y_SVC)\n",
    "precision_SGD, recall_SGD = metrics_class(y_test, predicted_y_SGD)\n",
    "precision_NC, recall_NC = metrics_class(y_test, predicted_y_NC)"
   ],
   "metadata": {
    "collapsed": false,
    "ExecuteTime": {
     "end_time": "2023-09-14T21:45:43.595350Z",
     "start_time": "2023-09-14T21:45:43.572358Z"
    }
   },
   "id": "c1a992f0f209154"
  },
  {
   "cell_type": "code",
   "execution_count": 150,
   "outputs": [],
   "source": [
    "# Receiving model F1-metric\n",
    "F1_SVC = 2 * (precision_SVC * recall_SVC) / (precision_SVC + recall_SVC)\n",
    "F1_SVD = 2 * (precision_SGD * recall_SGD) / (precision_SGD + recall_SGD)\n",
    "F1_NC = 2 * (precision_NC * recall_NC) / (precision_NC + recall_NC)\n",
    "F1_CNN = 2 * (test_scores_CNN_class[2] * test_scores_CNN_class[3]) / (test_scores_CNN_class[2] + test_scores_CNN_class[3])\n",
    "F1_DNN = 2 * (test_scores_DNN_class[2] * test_scores_DNN_class[3]) / (test_scores_DNN_class[2] + test_scores_DNN_class[3])"
   ],
   "metadata": {
    "collapsed": false,
    "ExecuteTime": {
     "end_time": "2023-09-14T21:50:26.129853Z",
     "start_time": "2023-09-14T21:50:26.118153Z"
    }
   },
   "id": "d90d3d1d65b776e0"
  },
  {
   "cell_type": "markdown",
   "source": [
    "### Classification results"
   ],
   "metadata": {
    "collapsed": false
   },
   "id": "821c89cb4e366e5a"
  },
  {
   "cell_type": "code",
   "execution_count": 152,
   "outputs": [
    {
     "data": {
      "text/plain": "     precision    recall        F1\nSVC   1.000000  0.066667  0.125000\nSGD   0.666667  0.133333  0.222222\nNC    0.187500  0.400000  0.255319\nDNN   1.000000  0.200000  0.333333\nCNN   0.846154  0.733333  0.785714",
      "text/html": "<div>\n<style scoped>\n    .dataframe tbody tr th:only-of-type {\n        vertical-align: middle;\n    }\n\n    .dataframe tbody tr th {\n        vertical-align: top;\n    }\n\n    .dataframe thead th {\n        text-align: right;\n    }\n</style>\n<table border=\"1\" class=\"dataframe\">\n  <thead>\n    <tr style=\"text-align: right;\">\n      <th></th>\n      <th>precision</th>\n      <th>recall</th>\n      <th>F1</th>\n    </tr>\n  </thead>\n  <tbody>\n    <tr>\n      <th>SVC</th>\n      <td>1.000000</td>\n      <td>0.066667</td>\n      <td>0.125000</td>\n    </tr>\n    <tr>\n      <th>SGD</th>\n      <td>0.666667</td>\n      <td>0.133333</td>\n      <td>0.222222</td>\n    </tr>\n    <tr>\n      <th>NC</th>\n      <td>0.187500</td>\n      <td>0.400000</td>\n      <td>0.255319</td>\n    </tr>\n    <tr>\n      <th>DNN</th>\n      <td>1.000000</td>\n      <td>0.200000</td>\n      <td>0.333333</td>\n    </tr>\n    <tr>\n      <th>CNN</th>\n      <td>0.846154</td>\n      <td>0.733333</td>\n      <td>0.785714</td>\n    </tr>\n  </tbody>\n</table>\n</div>"
     },
     "execution_count": 152,
     "metadata": {},
     "output_type": "execute_result"
    }
   ],
   "source": [
    "# Returns summary table for gotten model metrics\n",
    "\n",
    "class_summary = pd.DataFrame({'SVC':[precision_SVC, recall_SVC, F1_SVC],\n",
    "                            'SGD':[precision_SGD, recall_SGD, F1_SVD],\n",
    "                            'NC':[precision_NC, recall_NC, F1_NC],\n",
    "                            'DNN':[test_scores_DNN_class[2], test_scores_DNN_class[3], F1_DNN],\n",
    "                            'CNN':[test_scores_CNN_class[2], test_scores_CNN_class[3], F1_CNN]},\n",
    "                           index=['precision', 'recall', 'F1']).T\n",
    "class_summary"
   ],
   "metadata": {
    "collapsed": false,
    "ExecuteTime": {
     "end_time": "2023-09-14T21:51:50.861171Z",
     "start_time": "2023-09-14T21:51:50.860435Z"
    }
   },
   "id": "5e430a94017c3e9a"
  },
  {
   "cell_type": "markdown",
   "source": [
    "Вывод: для классификации предлагается использовать модели глубокого обучения, \n",
    "т.к. они показывают лучшие результаты. В частности, сверточную нейронную сеть.\n",
    "Каждую полученную модель можно сохранить и использовать в дальнейшем."
   ],
   "metadata": {
    "collapsed": false
   },
   "id": "97fcc3c256afb02"
  }
 ],
 "metadata": {
  "kernelspec": {
   "display_name": "Python 3",
   "language": "python",
   "name": "python3"
  },
  "language_info": {
   "codemirror_mode": {
    "name": "ipython",
    "version": 2
   },
   "file_extension": ".py",
   "mimetype": "text/x-python",
   "name": "python",
   "nbconvert_exporter": "python",
   "pygments_lexer": "ipython2",
   "version": "2.7.6"
  }
 },
 "nbformat": 4,
 "nbformat_minor": 5
}
